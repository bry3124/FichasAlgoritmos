{
  "nbformat": 4,
  "nbformat_minor": 0,
  "metadata": {
    "colab": {
      "provenance": [],
      "authorship_tag": "ABX9TyMN7WEe2QDtzPSl0Cgpt4Op",
      "include_colab_link": true
    },
    "kernelspec": {
      "name": "python3",
      "display_name": "Python 3"
    },
    "language_info": {
      "name": "python"
    }
  },
  "cells": [
    {
      "cell_type": "markdown",
      "metadata": {
        "id": "view-in-github",
        "colab_type": "text"
      },
      "source": [
        "<a href=\"https://colab.research.google.com/github/bry3124/FichasAlgoritmos/blob/main/diccionarios/fichadiccionarios.ipynb\" target=\"_parent\"><img src=\"https://colab.research.google.com/assets/colab-badge.svg\" alt=\"Open In Colab\"/></a>"
      ]
    },
    {
      "cell_type": "markdown",
      "source": [
        "# **DICCIONARIOS**"
      ],
      "metadata": {
        "id": "VBv1LDKLciQl"
      }
    },
    {
      "cell_type": "markdown",
      "source": [
        "**1. QUE SON Y PARA QUE SE UTILIZAN?**\n",
        "\n",
        "Un diccionario es una estructura de datos que permite almacenar valores asociados a claves . Es como una lista, pero en lugar de acceder a los elementos por un índice numérico (como lista[0]), se accede por una clave , que puede ser de casi cualquier tipo inmutable, como una cadena de texto o un número.\n",
        "\n",
        "**LOS DICCIONARIOS SE UTILIZAN PARA:**\n",
        "\n",
        "- Los diccionarios se utilizan para almacenar y organizar datos en pares clave-valor, lo que permite acceder a los datos de manera rápida."
      ],
      "metadata": {
        "id": "56IBGDyEcpKu"
      }
    },
    {
      "cell_type": "markdown",
      "source": [
        "**2. EJEMPLO DE LA CLASE**"
      ],
      "metadata": {
        "id": "BqvuEayRcvDo"
      }
    },
    {
      "cell_type": "code",
      "source": [
        "persona = {\n",
        "    \"nombre\": \"Carlos\",\n",
        "    \"edad\": 30,\n",
        "    \"ciudad\": \"Medellín\"\n",
        "}\n",
        "\n",
        "# \"nombre\", \"edad\"y \"ciudad\" son las claves\n",
        "# \"Carlos\", 30 y \"Medellín\" son los valores\n",
        "\n",
        "print(persona[\"nombre\"])\n",
        "print(persona[\"edad\"])\n",
        "print(persona[\"ciudad\"])"
      ],
      "metadata": {
        "colab": {
          "base_uri": "https://localhost:8080/"
        },
        "id": "fMwNM3spcwcq",
        "outputId": "3b20fd36-3c1d-4804-c989-c189b744d06f"
      },
      "execution_count": 1,
      "outputs": [
        {
          "output_type": "stream",
          "name": "stdout",
          "text": [
            "Carlos\n",
            "30\n",
            "Medellín\n"
          ]
        }
      ]
    },
    {
      "cell_type": "markdown",
      "source": [
        "**3. EJEMPLO DE DICCIONARIOS INVESTIGADO** [linkejercicio](https://www.youtube.com/shorts/3vXTeO0kbe8)"
      ],
      "metadata": {
        "id": "U79pa5DLc9PT"
      }
    },
    {
      "cell_type": "code",
      "source": [
        "# Crear un diccioanrio\n",
        "mi_diccionario = {\n",
        "    \"nombre\": \"Juan\",\n",
        "    \"edad\": 28,\n",
        "    \"ciudad\": \"Buenos Aires\"\n",
        "}\n",
        "\n",
        "# Acceder a un valor por su clave\n",
        "print(mi_diccionario[\"nombre\"])\n",
        "print(mi_diccionario[\"edad\"])\n",
        "print(mi_diccionario[\"ciudad\"])"
      ],
      "metadata": {
        "colab": {
          "base_uri": "https://localhost:8080/"
        },
        "id": "mYZ7_jTWc-Tc",
        "outputId": "17f0e3d0-4e77-4f93-8d04-ce64528ce9a1"
      },
      "execution_count": 2,
      "outputs": [
        {
          "output_type": "stream",
          "name": "stdout",
          "text": [
            "Juan\n",
            "28\n",
            "Buenos Aires\n"
          ]
        }
      ]
    },
    {
      "cell_type": "code",
      "source": [
        "# Agregar un elemento al diccionario\n",
        "mi_diccionario[\"Profesion\"] = \"Programador\"\n",
        "\n",
        "# Modificar un elemento existente\n",
        "mi_diccionario[\"edad\"] = 30\n",
        "\n",
        "# Imprimir el diccionario actualizado\n",
        "print(mi_diccionario)\n",
        "\n",
        "# Link del ejercicio\n",
        "#(https://www.youtube.com/shorts/3vXTeO0kbe8)"
      ],
      "metadata": {
        "colab": {
          "base_uri": "https://localhost:8080/"
        },
        "id": "c-1RmQ5CdFS8",
        "outputId": "c8887ff1-dc0f-409e-c3bf-2133d84aa8a5"
      },
      "execution_count": 3,
      "outputs": [
        {
          "output_type": "stream",
          "name": "stdout",
          "text": [
            "{'nombre': 'Juan', 'edad': 30, 'ciudad': 'Buenos Aires', 'Profesion': 'Programador'}\n"
          ]
        }
      ]
    },
    {
      "cell_type": "markdown",
      "source": [
        "**4. EXPLICACION DEL ALGORITMO INVESTIGADO** [audioexplicacion](https://bry3124.github.io/FichasAlgoritmos/diccionarios/audiodiccionarios.mp3)"
      ],
      "metadata": {
        "id": "Ee83yrSYdRME"
      }
    },
    {
      "cell_type": "code",
      "source": [
        "#Ejercicio:\n",
        "\n",
        "#Tienes un diccionario que almacena las notas finales de tres estudiantes.\n",
        "#Cada estudiante tiene un nombre como clave y un diccionario como valor,\n",
        "#donde se guardan sus materias y la nota correspondiente.\n",
        "\n",
        "#Realizar:\n",
        "\n",
        "#1.Mostrar la nota del estudiante \"Laura\" en la materia \"Matemáticas\".\n",
        "#2.Modificar la nota de \"Pedro\" en \"Ciencias\" a 4.5.\n",
        "\n",
        "\n",
        "# Diccionario de estudiantes con sus notas\n",
        "estudiantes = {\n",
        "    \"Laura\": {\"Matemáticas\": 4.8, \"Español\": 4.5, \"Inglés\": 4.0},\n",
        "    \"Pedro\": {\"Matemáticas\": 3.8, \"Ciencias\": 4.0},\n",
        "    \"Carlos\": {\"Español\": 3.5, \"Inglés\": 4.2}\n",
        "}\n",
        "\n",
        "# 1. Mostrar la nota de Laura en Matemáticas\n",
        "print(\"Nota de Laura en Matemáticas:\", estudiantes[\"Laura\"][\"Matemáticas\"])\n",
        "\n",
        "# 2. Modificar la nota de Pedro en Ciencias a 4.5\n",
        "estudiantes[\"Pedro\"][\"Ciencias\"] = 4.5\n",
        "\n",
        "#3. Imprimir lista actulizada\n",
        "print(estudiantes)"
      ],
      "metadata": {
        "colab": {
          "base_uri": "https://localhost:8080/"
        },
        "id": "a9-uYsEodiWO",
        "outputId": "44262bf7-4a3d-4459-d428-fdb4659b3f7e"
      },
      "execution_count": 4,
      "outputs": [
        {
          "output_type": "stream",
          "name": "stdout",
          "text": [
            "Nota de Laura en Matemáticas: 4.8\n",
            "{'Laura': {'Matemáticas': 4.8, 'Español': 4.5, 'Inglés': 4.0}, 'Pedro': {'Matemáticas': 3.8, 'Ciencias': 4.5}, 'Carlos': {'Español': 3.5, 'Inglés': 4.2}}\n"
          ]
        }
      ]
    }
  ]
}