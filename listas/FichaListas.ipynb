{
  "nbformat": 4,
  "nbformat_minor": 0,
  "metadata": {
    "colab": {
      "provenance": [],
      "authorship_tag": "ABX9TyPzJuH27613y4CIVMr4S44x",
      "include_colab_link": true
    },
    "kernelspec": {
      "name": "python3",
      "display_name": "Python 3"
    },
    "language_info": {
      "name": "python"
    }
  },
  "cells": [
    {
      "cell_type": "markdown",
      "metadata": {
        "id": "view-in-github",
        "colab_type": "text"
      },
      "source": [
        "<a href=\"https://colab.research.google.com/github/bry3124/FichasAlgoritmos/blob/main/listas/FichaListas.ipynb\" target=\"_parent\"><img src=\"https://colab.research.google.com/assets/colab-badge.svg\" alt=\"Open In Colab\"/></a>"
      ]
    },
    {
      "cell_type": "markdown",
      "source": [
        "#**LISTAS**"
      ],
      "metadata": {
        "id": "Fulwa6EcVLgT"
      }
    },
    {
      "cell_type": "markdown",
      "source": [
        "**1. QUE SON Y PARA QUE SE UTILIZAN?**\n",
        "\n",
        "Una lista es una colección ordenada . y mutable de elementos , que pueden ser de cualquier tipo de datos : números , cadenas , otras listas , objetos , etc.\n",
        "\n",
        "**LAS LISTAS SE USAN PARA:**\n",
        "\n",
        "Guardar varios datos juntos\n",
        "Iterar (recorrer) datos con bucles\n",
        "Agregar, eliminar o modificar elementos\n",
        "Almacenar resultados, datos de entrada.\n",
        "Realizar operaciones con múltiples elementos."
      ],
      "metadata": {
        "id": "pt7rWul6VPBC"
      }
    },
    {
      "cell_type": "markdown",
      "source": [
        "**2. EJEMPLO DE LA CLASE**"
      ],
      "metadata": {
        "id": "gjOJBcLLVYFf"
      }
    },
    {
      "cell_type": "code",
      "source": [
        "numeros = [1,2,3,4]\n",
        "condicion = [\"gordo\", \"calvito\", \"Flaquito\"]\n",
        "vehiculos = [\"moto\", \"carro\", \"bicicleta\", \"camion\"]\n",
        "\n",
        "print(vehiculos[0])\n",
        "print(numeros[1])\n",
        "print(condicion[2])"
      ],
      "metadata": {
        "colab": {
          "base_uri": "https://localhost:8080/"
        },
        "id": "UQPffsqLVWQU",
        "outputId": "9ab03d8d-0f08-46c2-d934-ed834c1ba3f5"
      },
      "execution_count": 1,
      "outputs": [
        {
          "output_type": "stream",
          "name": "stdout",
          "text": [
            "moto\n",
            "2\n",
            "Flaquito\n"
          ]
        }
      ]
    },
    {
      "cell_type": "markdown",
      "source": [
        "**3. EJMEPLO DE LISTAS INVESTIGADO**\n",
        " [Ejercicio Investigado](https://www.youtube.com/shorts/dVrDdjqpMT0)"
      ],
      "metadata": {
        "id": "iswmtKj1Vnac"
      }
    },
    {
      "cell_type": "code",
      "source": [
        "# Unir dos listas\n",
        "\n",
        "a1 = [\"gato\", \"perro\"]\n",
        "a2 = [\"pajaro\", \"pez\"]\n",
        "\n",
        "# 1. Usar el operador suma donde se forma la lista animales\n",
        "\n",
        "animales = (a1 + a2)\n",
        "print(animales, \"Metodo 1\")\n",
        "\n",
        "# 2. Usar el operador de desempaquetado (*) para desempaquetar los elementos de una lista\n",
        "# e introducirlos en nueva, en este caso la nueva lista es animales\n",
        "\n",
        "animales =(*a1, *a2,)\n",
        "print(animales, \"Metodo 2\")\n",
        "\n",
        "# Link del ejercicio\n",
        "#(https://www.youtube.com/shorts/dVrDdjqpMT0)"
      ],
      "metadata": {
        "colab": {
          "base_uri": "https://localhost:8080/"
        },
        "id": "yC6dJ3VZVrqz",
        "outputId": "e6f4740a-d4a1-49e7-87b5-8b26f41da53a"
      },
      "execution_count": 2,
      "outputs": [
        {
          "output_type": "stream",
          "name": "stdout",
          "text": [
            "['gato', 'perro', 'pajaro', 'pez'] Metodo 1\n",
            "('gato', 'perro', 'pajaro', 'pez') Metodo 2\n"
          ]
        }
      ]
    },
    {
      "cell_type": "markdown",
      "source": [
        "**4. EXPLICACION DE UN ALGORITMO INVESTIGADO** [audioexplicacion](https://bry3124.github.io/FichasAlgoritmos/listas/audiolistas.mp3)"
      ],
      "metadata": {
        "id": "SyvosmpVWShq"
      }
    },
    {
      "cell_type": "code",
      "source": [
        "#Ejercicio\n",
        "\n",
        "#Dada una lista con las calificaciones de un estudiante en 5 materias,\n",
        "#Calcular el promedio de las 5 notas.\n",
        "\n",
        "\n",
        "# Lista original de calificaciones\n",
        "notas = [4.0, 3.5, 5.0, 2.8, 4.2]\n",
        "\n",
        "#Calcular el promedio\n",
        "promedio = (notas[0] + notas[1] + notas[2] + notas[3] + notas[4]) / 5\n",
        "print(\"Promedio:\", promedio)"
      ],
      "metadata": {
        "id": "aqvFqD3NbP2B"
      },
      "execution_count": null,
      "outputs": []
    }
  ]
}