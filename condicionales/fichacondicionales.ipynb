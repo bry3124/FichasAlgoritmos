{
  "nbformat": 4,
  "nbformat_minor": 0,
  "metadata": {
    "colab": {
      "provenance": [],
      "authorship_tag": "ABX9TyMi13SSsgINb/nuGYugSYoB",
      "include_colab_link": true
    },
    "kernelspec": {
      "name": "python3",
      "display_name": "Python 3"
    },
    "language_info": {
      "name": "python"
    }
  },
  "cells": [
    {
      "cell_type": "markdown",
      "metadata": {
        "id": "view-in-github",
        "colab_type": "text"
      },
      "source": [
        "<a href=\"https://colab.research.google.com/github/bry3124/FichasAlgoritmos/blob/main/condicionales/fichacondicionales.ipynb\" target=\"_parent\"><img src=\"https://colab.research.google.com/assets/colab-badge.svg\" alt=\"Open In Colab\"/></a>"
      ]
    },
    {
      "cell_type": "markdown",
      "source": [
        "# **CONDICIONALES IF/ELSE**"
      ],
      "metadata": {
        "id": "-zOZQ43xjSU0"
      }
    },
    {
      "cell_type": "markdown",
      "source": [
        "**1. QUE SON Y PARA QUE SE UTILIZAN?**\n",
        "\n",
        "Los condicionales if/elseen Python son estructuras que se utilizan para tomar decisiones. en tu código, ss decir, permiten ejecutar ciertas instrucciones solo si se cumple una condición determinada\n",
        "\n",
        "La palabra clave ifsignifica \" si \" en inglés. Se usa para evaluar una condición (una expresión que puede ser verdadera o falsa) . Si (una expresión que puede ser verdadera o falsa).\n",
        "Si la condición es verdadera (True) , se ejecuta un bloque de código.\n",
        "Si es falsa (False) , se puede usar else o elif para ejecutar otra cosa.\n",
        "\n",
        "if condicion:\n",
        "    # Código que se ejecuta si la condición es verdadera\n",
        "elif:\n",
        "    # Si deseas evaluar otra condicion\n",
        "else:\n",
        "    # Código que se ejecuta si ninguna de las condiciónes se cumple\n",
        "\n",
        "**LOS CONDICIONALES SIRVEN PARA:**\n",
        "\n",
        "- Validar condiciones (edad, permisos, contraseñas).\n",
        "\n",
        "- Controlar el flujo del programa.\n",
        "\n",
        "- Hacer menús interactivos.\n",
        "\n",
        "- Implementar reglas de negocio (por ejemplo, descuentos, precios, etc)."
      ],
      "metadata": {
        "id": "VMRw-ffZjVHh"
      }
    },
    {
      "cell_type": "markdown",
      "source": [
        "**2.  EJEMPLOS DE LA CLASE**"
      ],
      "metadata": {
        "id": "abtFltZqjd9Y"
      }
    },
    {
      "cell_type": "code",
      "source": [
        "# Se solicita al usuario que ingrese un número y se convierte a entero\n",
        "a = int(input(\"Ingrese un numero: \"))\n",
        "\n",
        "# Se solicita otro número y también se convierte a entero\n",
        "b = int(input(\"Ingrese otro numero: \"))\n",
        "\n",
        "# Se pide al usuario que escriba la operación que quiere realizar\n",
        "seleccion = input(\"Ingrese la operacion a realizar: \")\n",
        "\n",
        "# Se calcula la resta y la suma con los valores ingresados\n",
        "resta = a - b\n",
        "suma = a + b\n",
        "\n",
        "# Se evalúa si la opción ingresada no es válida (ni suma ni resta, sin importar mayúsculas)\n",
        "if seleccion != \"suma\" and seleccion != \"Suma\" and seleccion != \"resta\" and seleccion != \"Resta\":\n",
        "    print(\"Opción no Valida\")\n",
        "\n",
        "# Si la opción es \"resta\" (en minúsculas o con mayúscula inicial), se muestra el resultado de la resta\n",
        "elif seleccion == \"resta\" or seleccion == \"Resta\":\n",
        "    print(\"La resta es: \", resta)\n",
        "\n",
        "# Si la opción es \"suma\" (en minúsculas o con mayúscula inicial), se muestra el resultado de la suma\n",
        "elif seleccion == \"suma\" or seleccion == \"Suma\":\n",
        "    print(\"La suma es:\", suma)\n"
      ],
      "metadata": {
        "colab": {
          "base_uri": "https://localhost:8080/"
        },
        "id": "pT3UQZhBje4t",
        "outputId": "8c177afc-04a2-4142-96be-1718ca04a1d2"
      },
      "execution_count": 2,
      "outputs": [
        {
          "output_type": "stream",
          "name": "stdout",
          "text": [
            "Ingrese un numero: 3\n",
            "Ingrese otro numero: 3\n",
            "Ingrese la operacion a realizar: suma\n",
            "La suma es: 6\n"
          ]
        }
      ]
    },
    {
      "cell_type": "markdown",
      "source": [
        "**3. EJEMPLO DE CONDICIONALES INVESTIGADO** [linkejercicio](https://www.youtube.com/shorts/l_RkuBUYQzg)"
      ],
      "metadata": {
        "id": "kqbpqmIRkEDM"
      }
    },
    {
      "cell_type": "code",
      "source": [
        "# Algoritmo que evalua si eres apto para votar\n",
        "edad = 18\n",
        "\n",
        "if edad >= 18:\n",
        "    print(\"Puedes Votar\")\n",
        "else:\n",
        "    print(\"No puedes votar\")"
      ],
      "metadata": {
        "colab": {
          "base_uri": "https://localhost:8080/"
        },
        "id": "LwFDdxyNkHT2",
        "outputId": "278d7226-df96-49ee-ed16-f9997741cbaf"
      },
      "execution_count": 3,
      "outputs": [
        {
          "output_type": "stream",
          "name": "stdout",
          "text": [
            "Puedes Votar\n"
          ]
        }
      ]
    },
    {
      "cell_type": "code",
      "source": [
        "# Algoritmo que determina si un numero es positivo, negativo o es cero\n",
        "numero = 0\n",
        "\n",
        "if numero > 0:\n",
        "    print(\"El numero es positivo\")\n",
        "elif numero < 0:\n",
        "    print(\"El numero es negativo\")\n",
        "else:\n",
        "    print(\"El numero es cero\")\n",
        "\n"
      ],
      "metadata": {
        "colab": {
          "base_uri": "https://localhost:8080/"
        },
        "id": "ndB2KdoTkL-R",
        "outputId": "f7bdc052-eda8-461a-ac6b-1f44b3e094c0"
      },
      "execution_count": 4,
      "outputs": [
        {
          "output_type": "stream",
          "name": "stdout",
          "text": [
            "El numero es cero\n"
          ]
        }
      ]
    },
    {
      "cell_type": "markdown",
      "source": [
        "**4. EXPLICACION DE UN ALGORITMO INVESTIGADO** [audioexplicacion](https://bry3124.github.io/FichasAlgoritmos/condicionales/audiocondicionales.mp3)"
      ],
      "metadata": {
        "id": "wvmBYSdIkj7F"
      }
    },
    {
      "cell_type": "code",
      "source": [
        "#Ejercicio\n",
        "\n",
        "#Escribe un programa en Python que reciba una calificación numérica entre 0 y 100\n",
        "#y que imprima el nivel del estudiante según la siguiente tabla:\n",
        "\n",
        "# 90 a 100: Excelente\n",
        "# 80 a 89: Notable\n",
        "# 70 a 79: Aprobado\n",
        "# 60 a 69: Suficiente\n",
        "# 0 a 59: Reprobado\n",
        "# Cualquier otro número: “Calificación inválida”\n",
        "\n",
        "\n",
        "# Solicitamos la calificación al usuario\n",
        "calificacion = int(input(\"Ingresa la calificación del estudiante (0 a 100): \"))\n",
        "\n",
        "# Evaluamos con condicionales\n",
        "#Si la nota es mayor o igual que 90 y menor o igual a 100 imprime Excelente\n",
        "if calificacion >= 90 and calificacion <= 100:\n",
        "    print(\"Nivel: Excelente\")\n",
        "\n",
        "#Si la nota es mayor o igual que 80 y menor o igual a 89 imprime Notable\n",
        "elif calificacion >= 80 and calificacion <= 89:\n",
        "    print(\"Nivel: Notable\")\n",
        "\n",
        "#Si la nota es mayor o igual que 70 y menor o igual a 79 imprime Aprobado\n",
        "elif calificacion >= 70 and calificacion <= 79:\n",
        "    print(\"Nivel: Aprobado\")\n",
        "\n",
        "#Si la nota es mayor o igual que 60 y menor o igual a 69 imprime Suficiente\n",
        "elif calificacion >= 60 and calificacion <= 69:\n",
        "    print(\"Nivel: Suficiente\")\n",
        "\n",
        "#Si la nota es mayor o igual que 0 y menor o igual a 59 imprime Reprobado\n",
        "elif calificacion >= 0 and calificacion <= 59:\n",
        "    print(\"Nivel: Reprobado\")\n",
        "else:\n",
        "    print(\"Calificación inválida\")"
      ],
      "metadata": {
        "colab": {
          "base_uri": "https://localhost:8080/"
        },
        "id": "JZYHWQnrknxv",
        "outputId": "f5e5ca01-5d71-400f-b476-bc48f505becd"
      },
      "execution_count": 5,
      "outputs": [
        {
          "output_type": "stream",
          "name": "stdout",
          "text": [
            "Ingresa la calificación del estudiante (0 a 100): 85\n",
            "Nivel: Notable\n"
          ]
        }
      ]
    }
  ]
}