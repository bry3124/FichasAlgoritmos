{
  "nbformat": 4,
  "nbformat_minor": 0,
  "metadata": {
    "colab": {
      "provenance": [],
      "authorship_tag": "ABX9TyNduq4TQGgyu3Lnv5qJdL7E",
      "include_colab_link": true
    },
    "kernelspec": {
      "name": "python3",
      "display_name": "Python 3"
    },
    "language_info": {
      "name": "python"
    }
  },
  "cells": [
    {
      "cell_type": "markdown",
      "metadata": {
        "id": "view-in-github",
        "colab_type": "text"
      },
      "source": [
        "<a href=\"https://colab.research.google.com/github/bry3124/FichasAlgoritmos/blob/main/operadores%20Logicos/fichaoperadores.ipynb\" target=\"_parent\"><img src=\"https://colab.research.google.com/assets/colab-badge.svg\" alt=\"Open In Colab\"/></a>"
      ]
    },
    {
      "cell_type": "markdown",
      "source": [
        "# **OPERADORES LOGICOS/BOOLEANOS Y MATEMATICOS**"
      ],
      "metadata": {
        "id": "NaLDr2AnlwRQ"
      }
    },
    {
      "cell_type": "markdown",
      "source": [
        "**1. QUE SON:**\n",
        "\n",
        "Los operadores booleanos y matemáticos se utilizan para realizar operaciones lógicas y matemáticas , respectivamente. Son fundamentales para la programación, ya que permiten tomar decisiones y trabajar con datos numéricos.\n",
        "\n",
        "**PARA QUE SE UTILIZAN:**\n",
        "\n",
        "- Evaluar múltiples condiciones.\n",
        "\n",
        "- Controlar el flujo del programa con if, while, etc."
      ],
      "metadata": {
        "id": "YZedUR4_lzVq"
      }
    },
    {
      "cell_type": "markdown",
      "source": [
        "**2. EJEMPLO DE LA CLASE**"
      ],
      "metadata": {
        "id": "Kzu2ZHnPl5oD"
      }
    },
    {
      "cell_type": "markdown",
      "source": [
        "#####Operadores matematicos"
      ],
      "metadata": {
        "id": "VLz5ZyjAl_e3"
      }
    },
    {
      "cell_type": "code",
      "source": [
        "# Operadores matematicos\n",
        "a = 10\n",
        "b = 2\n",
        "\n",
        "print(a + b)  #suma\n",
        "print(a - b)  #resta\n",
        "print(a * b)  #multiplicacion\n",
        "print(a / b)  #division\n",
        "print(a % b)  #modulo\n",
        "print(a ** b) #exponente"
      ],
      "metadata": {
        "colab": {
          "base_uri": "https://localhost:8080/"
        },
        "id": "x2vayrLOl7Y4",
        "outputId": "04bfbb7c-3a08-4a8e-96cb-c83f4f03a1eb"
      },
      "execution_count": 8,
      "outputs": [
        {
          "output_type": "stream",
          "name": "stdout",
          "text": [
            "12\n",
            "8\n",
            "20\n",
            "5.0\n",
            "0\n",
            "100\n"
          ]
        }
      ]
    },
    {
      "cell_type": "markdown",
      "source": [
        "#####Operadores Booleanos"
      ],
      "metadata": {
        "id": "PuprXU6emFAu"
      }
    },
    {
      "cell_type": "code",
      "source": [
        "# Operadores Booleanos\n",
        "def truth_table_conjunction():\n",
        "    print(\"p | q | p ∧ q (AND)\")\n",
        "    for p in [True, False]:\n",
        "        for q in [True, False]:\n",
        "            print(f\"{p} | {q} | {p and q}\")\n",
        "\n",
        "def truth_table_disjunction():\n",
        "    print(\"p | q | p ∨ q (OR)\")\n",
        "    for p in [True, False]:\n",
        "        for q in [True, False]:\n",
        "            print(f\"{p} | {q} | {p or q}\")\n",
        "\n",
        "def truth_table_implication():\n",
        "    print(\"p | q | p → q (not OR)\")\n",
        "    for p in [True, False]:\n",
        "        for q in [True, False]:\n",
        "            print(f\"{p} | {q} | {not p or q}\")\n",
        "\n",
        "def truth_table_biconditional():\n",
        "    print(\"p | q | p ↔ q (EQUAL)\")\n",
        "    for p in [True, False]:\n",
        "        for q in [True, False]:\n",
        "            print(f\"{p} | {q} | {p == q}\")\n",
        "def truth_table_xor():\n",
        "    print(\"p | q | p ⊕ q (NOT EQUAL)\")\n",
        "    for p in [True, False]:\n",
        "        for q in [True, False]:\n",
        "            print(f\"{p} | {q} | {p != q}\")\n",
        "\n",
        "def truth_table_xand():\n",
        "    print(\"p | q | p XAND q\")\n",
        "    print(\"-\" * 15)\n",
        "    for p in [True, False]:\n",
        "        for q in [True, False]:\n",
        "            a = p != q\n",
        "            anot = not a\n",
        "            print(f\"{p} | {q} | {anot}\")  # XAND es NOT XNOR\n",
        "\n",
        "\n",
        "\n",
        "# Llamar las funciones para ver las tablas\n",
        "truth_table_conjunction()\n",
        "truth_table_disjunction()\n",
        "truth_table_implication()\n",
        "truth_table_biconditional()\n",
        "truth_table_xor()\n",
        "truth_table_xand()"
      ],
      "metadata": {
        "colab": {
          "base_uri": "https://localhost:8080/"
        },
        "id": "PKUBDiVVmH7S",
        "outputId": "8180f23b-6b43-4d5f-b966-e92561436f8e"
      },
      "execution_count": 7,
      "outputs": [
        {
          "output_type": "stream",
          "name": "stdout",
          "text": [
            "p | q | p ∧ q (AND)\n",
            "True | True | True\n",
            "True | False | False\n",
            "False | True | False\n",
            "False | False | False\n",
            "p | q | p ∨ q (OR)\n",
            "True | True | True\n",
            "True | False | True\n",
            "False | True | True\n",
            "False | False | False\n",
            "p | q | p → q (not OR)\n",
            "True | True | True\n",
            "True | False | False\n",
            "False | True | True\n",
            "False | False | True\n",
            "p | q | p ↔ q (EQUAL)\n",
            "True | True | True\n",
            "True | False | False\n",
            "False | True | False\n",
            "False | False | True\n",
            "p | q | p ⊕ q (NOT EQUAL)\n",
            "True | True | False\n",
            "True | False | True\n",
            "False | True | True\n",
            "False | False | False\n",
            "p | q | p XAND q\n",
            "---------------\n",
            "True | True | True\n",
            "True | False | False\n",
            "False | True | False\n",
            "False | False | True\n"
          ]
        }
      ]
    },
    {
      "cell_type": "markdown",
      "source": [
        "**3. EJEMPLO DE OPERADORES INVESTIGADO** [linkoperadoresmatematicos](https://www.youtube.com/shorts/AjAuCIL8_0A)  - [linkoperadoreslogicos](https://www.youtube.com/shorts/RISqS0Hp2_s)"
      ],
      "metadata": {
        "id": "5VRA1DFtmkNf"
      }
    },
    {
      "cell_type": "code",
      "source": [
        "#operadores matematicos\n",
        "\n",
        "suma = 7 + 5\n",
        "resta = 12 - 4\n",
        "multiplicacion = 3 * 4\n",
        "division = 16 / 2\n",
        "exponente = 2 ** 3\n",
        "modulo = 10 % 3\n",
        "\n",
        "print(suma)\n",
        "print(multiplicacion)\n",
        "print(resta)\n",
        "print(division)\n",
        "print(exponente)\n",
        "print(modulo)\n"
      ],
      "metadata": {
        "colab": {
          "base_uri": "https://localhost:8080/"
        },
        "id": "Auva0GcTmmAa",
        "outputId": "cdf1af70-0c13-4a9e-975c-1d9a91b2ea15"
      },
      "execution_count": 2,
      "outputs": [
        {
          "output_type": "stream",
          "name": "stdout",
          "text": [
            "12\n",
            "12\n",
            "8\n",
            "8.0\n",
            "8\n",
            "1\n"
          ]
        }
      ]
    },
    {
      "cell_type": "code",
      "source": [
        "base = 5\n",
        "altura = 3\n",
        "area = (base * altura) / 2\n",
        "\n",
        "print(area)\n"
      ],
      "metadata": {
        "colab": {
          "base_uri": "https://localhost:8080/"
        },
        "id": "4hbER-2KnNgt",
        "outputId": "c0f9c572-1a04-4a76-cfd6-51e618958574"
      },
      "execution_count": 4,
      "outputs": [
        {
          "output_type": "stream",
          "name": "stdout",
          "text": [
            "7.5\n"
          ]
        }
      ]
    },
    {
      "cell_type": "code",
      "source": [
        "#operadores logicos/booleanos\n",
        "\n",
        "# and\n",
        "\n",
        "a = True\n",
        "b = False\n",
        "print(a and b)\n",
        "\n",
        "#or\n",
        "\n",
        "a = True\n",
        "b = False\n",
        "print(a or b)\n",
        "\n",
        "# not\n",
        "\n",
        "a = True\n",
        "print(not a)\n",
        "\n"
      ],
      "metadata": {
        "colab": {
          "base_uri": "https://localhost:8080/"
        },
        "id": "K1QaAKRTmol8",
        "outputId": "cf727e8f-8029-4081-8123-0865bb3409ec"
      },
      "execution_count": 5,
      "outputs": [
        {
          "output_type": "stream",
          "name": "stdout",
          "text": [
            "False\n",
            "True\n",
            "False\n"
          ]
        }
      ]
    },
    {
      "cell_type": "markdown",
      "source": [
        "**4. EXPLICACION DE ALGORITMO INVESTIGADO**  [audioexplicacion](https://bry3124.github.io/FichasAlgoritmos/operadores%20Logicos/audiooperadores.mp3)"
      ],
      "metadata": {
        "id": "vY3NNwUSoWp1"
      }
    },
    {
      "cell_type": "code",
      "source": [
        "# Ejercicio\n",
        "\n",
        "# Un estudiante necesita saber si puede pasar el semestre.\n",
        "# Para aprobar, necesita tener un promedio mayor o igual a 3.0\n",
        "# y además haber asistido al menos al 80% de las clases.\n",
        "# El semestre tiene 40 clases. El programa debe decir si\n",
        "# el estudiante aprueba o no, usando operadores lógicos y matemáticos.\n",
        "\n",
        "\n",
        "# Datos del estudiante\n",
        "nota1 = 3.2\n",
        "nota2 = 2.8\n",
        "nota3 = 3.5\n",
        "\n",
        "clases_asistidas = 33\n",
        "total_clases = 40\n",
        "\n",
        "\n",
        "# 1. Calcular el promedio\n",
        "promedio = (nota1 + nota2 + nota3) / 3\n",
        "\n",
        "# 2. Calcular el porcentaje de asistencia\n",
        "porcentaje_asistencia = (clases_asistidas / total_clases) * 100\n",
        "\n",
        "# 3. Verificar si cumple las dos condiciones\n",
        "aprueba = promedio >= 3.0 and porcentaje_asistencia >= 80\n",
        "\n",
        "if aprueba:\n",
        "    print(\"El estudiante aprueba el semestre con un promedio de: \", promedio, \" y un porcentaje de asistencia del: \", porcentaje_asistencia)\n",
        "else:\n",
        "    print(\"El estudiante no aprueba el semestre.\")"
      ],
      "metadata": {
        "colab": {
          "base_uri": "https://localhost:8080/"
        },
        "id": "MAwl5Gqqodrc",
        "outputId": "f21bfcf4-9e47-49bb-ce33-16b8cb0e3ec3"
      },
      "execution_count": 6,
      "outputs": [
        {
          "output_type": "stream",
          "name": "stdout",
          "text": [
            "El estudiante aprueba el semestre con un promedio de:  3.1666666666666665  y un porcentaje de asistencia del:  82.5\n"
          ]
        }
      ]
    }
  ]
}