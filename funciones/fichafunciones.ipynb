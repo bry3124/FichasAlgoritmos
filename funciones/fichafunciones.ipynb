{
  "nbformat": 4,
  "nbformat_minor": 0,
  "metadata": {
    "colab": {
      "provenance": [],
      "authorship_tag": "ABX9TyOl3re145fyOQnXgAsy4rxI",
      "include_colab_link": true
    },
    "kernelspec": {
      "name": "python3",
      "display_name": "Python 3"
    },
    "language_info": {
      "name": "python"
    }
  },
  "cells": [
    {
      "cell_type": "markdown",
      "metadata": {
        "id": "view-in-github",
        "colab_type": "text"
      },
      "source": [
        "<a href=\"https://colab.research.google.com/github/bry3124/FichasAlgoritmos/blob/main/funciones/fichafunciones.ipynb\" target=\"_parent\"><img src=\"https://colab.research.google.com/assets/colab-badge.svg\" alt=\"Open In Colab\"/></a>"
      ]
    },
    {
      "cell_type": "markdown",
      "source": [
        "# **FUNCIONES**"
      ],
      "metadata": {
        "id": "U4pKV-mKt2Ic"
      }
    },
    {
      "cell_type": "markdown",
      "source": [
        "**1. QUE SON:**\n",
        "\n",
        "Las funciones son bloques de código reutilizables que realizan una tarea específica. Sirven para organizar tu código, evitar repetir instrucciones, y hacerlo más legible y fácil de mantener.\n",
        "\n",
        "**PARA QUE SIRVEN:**\n",
        "\n",
        "- Evitar repetir código\n",
        "\n",
        "- Dividir programas grandes en partes más pequeñas y comprensibles.\n",
        "\n",
        "- Reutilizar código en diferentes partes de tu programa.\n",
        "\n",
        "- Facilitar pruebas, depuración y mantenimiento."
      ],
      "metadata": {
        "id": "rE0BN_2Ot8oA"
      }
    },
    {
      "cell_type": "markdown",
      "source": [
        "**2. EJEMPLO DE LA CLASE**"
      ],
      "metadata": {
        "id": "CueNmmDKuGwT"
      }
    },
    {
      "cell_type": "code",
      "source": [
        "#Definir una funcion que busque un dato en una lista\n",
        "\n",
        "a = [\"gordo\", \"calvito\", \"Flaquito\"]\n",
        "\n",
        "def buscar():\n",
        "    for i in a:\n",
        "       if \"calvito\" == i:\n",
        "          print(i)\n",
        "\n",
        "buscar()"
      ],
      "metadata": {
        "colab": {
          "base_uri": "https://localhost:8080/"
        },
        "id": "0XU1pJlXuIDg",
        "outputId": "1bb6d70d-0b9e-471c-d79e-bac94b6d3087"
      },
      "execution_count": 1,
      "outputs": [
        {
          "output_type": "stream",
          "name": "stdout",
          "text": [
            "calvito\n"
          ]
        }
      ]
    },
    {
      "cell_type": "markdown",
      "source": [
        "**3.EJEMPLO INVESTIGADO**  [linkejercicio](https://www.youtube.com/shorts/SuRJS174wck)"
      ],
      "metadata": {
        "id": "44ttj0ghuJsq"
      }
    },
    {
      "cell_type": "code",
      "source": [
        "# definir una funcion personalizada para saludar al usuario\n",
        "\n",
        "def saludar(nombre):\n",
        "  print(\"Hola\", nombre, \"!Bienvenido/a!\")\n",
        "\n",
        "#llamar la funcion\n",
        "saludar(\"Juan\")\n",
        "saludar(\"Ana\")\n",
        "saludar(\"Pedro\")"
      ],
      "metadata": {
        "colab": {
          "base_uri": "https://localhost:8080/"
        },
        "id": "0bQnwT7VuMy7",
        "outputId": "11586f53-47ea-4133-8775-47ae43654eda"
      },
      "execution_count": 2,
      "outputs": [
        {
          "output_type": "stream",
          "name": "stdout",
          "text": [
            "Hola Juan !Bienvenido/a!\n",
            "Hola Ana !Bienvenido/a!\n",
            "Hola Pedro !Bienvenido/a!\n"
          ]
        }
      ]
    },
    {
      "cell_type": "markdown",
      "source": [
        "**4. EXPLICACION DE ALGORITMO INVESTIGADO**  [audioexplicacion](https://bry3124.github.io/FichasAlgoritmos/funciones/audiofunciones.mp3)\n",
        "\n"
      ],
      "metadata": {
        "id": "btm9XCqhuq7c"
      }
    },
    {
      "cell_type": "code",
      "source": [
        "#Ejercicio\n",
        "\n",
        "#crear una función que cuente cuantos productos se vendieron\n",
        "#durante el día\n",
        "\n",
        "#Lista de ventas del día\n",
        "lista_ventas = ['manzana', 'banana', 'manzana', 'pera', 'banana', 'manzana']\n",
        "\n",
        "\n",
        "# Definimos una función llamada 'contar_productos' que recibe una lista como parámetro\n",
        "def contar_productos(lista_ventas):\n",
        "    # Creamos un diccionario vacío para guardar el conteo de cada producto\n",
        "    conteo = {}\n",
        "\n",
        "    # Recorremos cada producto en la lista de ventas\n",
        "    for producto in lista_ventas:\n",
        "        # Si el producto ya está en el diccionario, aumentamos su conteo en 1\n",
        "        if producto in conteo:\n",
        "            conteo[producto] += 1\n",
        "        # Si el producto no está en el diccionario, lo agregamos con valor 1\n",
        "        else:\n",
        "            conteo[producto] = 1\n",
        "\n",
        "    # Devolvemos el diccionario con el conteo final de productos\n",
        "    return conteo\n",
        "\n",
        "#llamamos la funcion\n",
        "contar_productos(lista_ventas)"
      ],
      "metadata": {
        "colab": {
          "base_uri": "https://localhost:8080/"
        },
        "id": "vvyO2EzQusx0",
        "outputId": "d4469c41-a681-4c93-916c-a9c55cf69c9a"
      },
      "execution_count": 3,
      "outputs": [
        {
          "output_type": "execute_result",
          "data": {
            "text/plain": [
              "{'manzana': 3, 'banana': 2, 'pera': 1}"
            ]
          },
          "metadata": {},
          "execution_count": 3
        }
      ]
    }
  ]
}