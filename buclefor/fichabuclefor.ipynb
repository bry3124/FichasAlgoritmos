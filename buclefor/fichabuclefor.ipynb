{
  "nbformat": 4,
  "nbformat_minor": 0,
  "metadata": {
    "colab": {
      "provenance": [],
      "authorship_tag": "ABX9TyMlQ/ums2LHrz72tiElOqTo",
      "include_colab_link": true
    },
    "kernelspec": {
      "name": "python3",
      "display_name": "Python 3"
    },
    "language_info": {
      "name": "python"
    }
  },
  "cells": [
    {
      "cell_type": "markdown",
      "metadata": {
        "id": "view-in-github",
        "colab_type": "text"
      },
      "source": [
        "<a href=\"https://colab.research.google.com/github/bry3124/FichasAlgoritmos/blob/main/buclefor/fichabuclefor.ipynb\" target=\"_parent\"><img src=\"https://colab.research.google.com/assets/colab-badge.svg\" alt=\"Open In Colab\"/></a>"
      ]
    },
    {
      "cell_type": "code",
      "execution_count": null,
      "metadata": {
        "id": "HQJNvutkgBkW"
      },
      "outputs": [],
      "source": [
        "# **BUCLE FOR**"
      ]
    },
    {
      "cell_type": "markdown",
      "source": [
        "**1. QUE ES:**\n",
        "\n",
        "El bucle for es una estructura de control que se utiliza para repetir un bloque de código un número determinado de veces , iterando sobre una secuencia como una lista, una cadena de texto, una tupla, un rango, etc.\n",
        "\n",
        "**PARA QUE SE UTILIZA:**\n",
        "\n",
        "- Recorrer listas, tuplas, diccionarios, cadenas de texto, etc.\n",
        "- Repetir tareas un número fijo de veces.\n",
        "- Ejecutar una acción por cada elemento de una lista."
      ],
      "metadata": {
        "id": "7xKpQ_7GgWQn"
      }
    },
    {
      "cell_type": "markdown",
      "source": [
        "**2. EJEMPLO DE LA CLASE**"
      ],
      "metadata": {
        "id": "_8TV4wh5gaAQ"
      }
    },
    {
      "cell_type": "code",
      "source": [
        "# Iterar sobre una lista\n",
        "\n",
        "frutas = [\"manzana\", \"banana\", \"pera\"]\n",
        "\n",
        "for fruta in frutas:\n",
        "    print(fruta)"
      ],
      "metadata": {
        "colab": {
          "base_uri": "https://localhost:8080/"
        },
        "id": "TWULf-5fga3Y",
        "outputId": "3ca95869-dff0-43f6-87bb-a2202f18b998"
      },
      "execution_count": 1,
      "outputs": [
        {
          "output_type": "stream",
          "name": "stdout",
          "text": [
            "manzana\n",
            "banana\n",
            "pera\n"
          ]
        }
      ]
    },
    {
      "cell_type": "code",
      "source": [
        "# Usar range() para repetir algo varias veces\n",
        "\n",
        "for i in range(5):\n",
        "    print(i)"
      ],
      "metadata": {
        "colab": {
          "base_uri": "https://localhost:8080/"
        },
        "id": "7Y_h5NVxgvKe",
        "outputId": "a3329e51-0ca1-4ef7-e1c6-1d0a99a83df9"
      },
      "execution_count": 2,
      "outputs": [
        {
          "output_type": "stream",
          "name": "stdout",
          "text": [
            "0\n",
            "1\n",
            "2\n",
            "3\n",
            "4\n"
          ]
        }
      ]
    },
    {
      "cell_type": "markdown",
      "source": [
        "**3. EJEMPLO DE BUCLE FOR INVESTIGADO** [linkejercicio](https://www.youtube.com/shorts/xZSuD9qdzSM)"
      ],
      "metadata": {
        "id": "fCgpcMWcgz4w"
      }
    },
    {
      "cell_type": "code",
      "source": [
        "# crear una lista de numeros\n",
        "numeros = [1, 2, 3, 4, 5]\n",
        "\n",
        "# usar un bucle for para iterar sobre la lista\n",
        "for numero in numeros:\n",
        "    print(\"El numero es: \", numero)"
      ],
      "metadata": {
        "colab": {
          "base_uri": "https://localhost:8080/"
        },
        "id": "mZxrlKVhg4EP",
        "outputId": "704d77a6-86f7-48bb-83e8-735a082d78d3"
      },
      "execution_count": 3,
      "outputs": [
        {
          "output_type": "stream",
          "name": "stdout",
          "text": [
            "El numero es:  1\n",
            "El numero es:  2\n",
            "El numero es:  3\n",
            "El numero es:  4\n",
            "El numero es:  5\n"
          ]
        }
      ]
    },
    {
      "cell_type": "code",
      "source": [
        "# imprimir cada caracter de una cadena de texto\n",
        "texto = \"Hola, mundo\"\n",
        "for caracter in texto:\n",
        "    print(caracter)"
      ],
      "metadata": {
        "colab": {
          "base_uri": "https://localhost:8080/"
        },
        "id": "xa6p9Cp1g7SQ",
        "outputId": "52ee46ba-05db-4a8d-a606-7e46f6e9af17"
      },
      "execution_count": 7,
      "outputs": [
        {
          "output_type": "stream",
          "name": "stdout",
          "text": [
            "H\n",
            "o\n",
            "l\n",
            "a\n",
            ",\n",
            " \n",
            "m\n",
            "u\n",
            "n\n",
            "d\n",
            "o\n"
          ]
        }
      ]
    },
    {
      "cell_type": "markdown",
      "source": [
        "**4. EXPLICACION DE UN ALGORITMO INVESTIGADO** [audioexplicacion](https://bry3124.github.io/FichasAlgoritmos/buclefor/audiobuclefor.mp3)"
      ],
      "metadata": {
        "id": "R8-8dfRuhmYa"
      }
    },
    {
      "cell_type": "code",
      "source": [
        "#Ejercicio\n",
        "\n",
        "#Escribe un programa en que recorra una lista de números del 1 al 10\n",
        "#y por cada número muestre su cuadrado.\n",
        "\n",
        "numeros = [1, 2, 3, 4, 5, 6, 7, 8, 9, 10]\n",
        "\n",
        "for numero in numeros: #Bucle que nos toma cada numero de la lista\n",
        "    cuadrado = numero ** 2 #Usamos el operador ** para elevar el numero\n",
        "                            #al cuadrado\n",
        "    print(\"Para el número\", numero,  \"su cuadrado es: \", cuadrado,) #Imprimimos\n",
        "    #el resultado por cada numero"
      ],
      "metadata": {
        "colab": {
          "base_uri": "https://localhost:8080/"
        },
        "id": "sYeyTjhOhrhg",
        "outputId": "f502f58a-f466-4651-98c2-f9fc56aca700"
      },
      "execution_count": 8,
      "outputs": [
        {
          "output_type": "stream",
          "name": "stdout",
          "text": [
            "Para el número 1 su cuadrado es:  1\n",
            "Para el número 2 su cuadrado es:  4\n",
            "Para el número 3 su cuadrado es:  9\n",
            "Para el número 4 su cuadrado es:  16\n",
            "Para el número 5 su cuadrado es:  25\n",
            "Para el número 6 su cuadrado es:  36\n",
            "Para el número 7 su cuadrado es:  49\n",
            "Para el número 8 su cuadrado es:  64\n",
            "Para el número 9 su cuadrado es:  81\n",
            "Para el número 10 su cuadrado es:  100\n"
          ]
        }
      ]
    }
  ]
}